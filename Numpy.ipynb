{
  "cells": [
    {
      "cell_type": "markdown",
      "metadata": {
        "id": "view-in-github",
        "colab_type": "text"
      },
      "source": [
        "<a href=\"https://colab.research.google.com/github/bear4o4/Python_First_Try/blob/main/Numpy.ipynb\" target=\"_parent\"><img src=\"https://colab.research.google.com/assets/colab-badge.svg\" alt=\"Open In Colab\"/></a>"
      ]
    },
    {
      "cell_type": "markdown",
      "metadata": {
        "id": "yCA3fC4G-icb"
      },
      "source": [
        "> ### **Assignment 4 - Numpy Operations**\n",
        ">\n",
        "> In this assignment you will:\n",
        ">\n",
        "> 1. Provide explanation and usage of 5 numpy functions given below.\n",
        "> 2. Run and modify this Jupyter notebook to illustrate their usage (some explanation and 2 examples for each function).\n",
        "> 3. Adding explaination for each function is mandatory.\n",
        "\n",
        "Functions:\n",
        "\n",
        "- np.concatenate()\n",
        "- np.dot()\n",
        "- np.linalg.det()\n",
        "- np.random.rand()\n",
        "- np.where()\n"
      ]
    },
    {
      "cell_type": "code",
      "execution_count": null,
      "metadata": {
        "id": "bJDpWS-z-icq"
      },
      "outputs": [],
      "source": [
        "import numpy as np"
      ]
    },
    {
      "cell_type": "markdown",
      "metadata": {
        "id": "pvmC4sWQ-ics"
      },
      "source": [
        "## Function 1 - np.concatenate\n",
        "\n",
        "this function is used to combine two or more array along a certain or fixed axis"
      ]
    },
    {
      "cell_type": "code",
      "execution_count": null,
      "metadata": {
        "id": "KC9lfq6s-ics",
        "colab": {
          "base_uri": "https://localhost:8080/"
        },
        "outputId": "985d7a8e-a23a-412e-8ee0-e81c9eeed4d6"
      },
      "outputs": [
        {
          "output_type": "stream",
          "name": "stdout",
          "text": [
            "Concatenated array:  [1 2 3 4 5 6]\n"
          ]
        }
      ],
      "source": [
        "# Example 1\n",
        "x = np.array([1, 2, 3])\n",
        "y = np.array([4, 5, 6])\n",
        "\n",
        "z = np.concatenate((x, y))\n",
        "print(\"Concatenated array: \", z)"
      ]
    },
    {
      "cell_type": "markdown",
      "metadata": {
        "id": "KsUh81wl-icv"
      },
      "source": [
        "here there are two arrays and they will combine to form one single array"
      ]
    },
    {
      "cell_type": "code",
      "execution_count": null,
      "metadata": {
        "id": "KpfUtCMH-icv",
        "colab": {
          "base_uri": "https://localhost:8080/"
        },
        "outputId": "7a7fa46f-0089-4076-cb84-81487a0e1f43"
      },
      "outputs": [
        {
          "output_type": "stream",
          "name": "stdout",
          "text": [
            "Concatenated array:  [[ 1  2]\n",
            " [ 3  4]\n",
            " [ 5  6]\n",
            " [ 7  8]\n",
            " [ 9 10]\n",
            " [11 12]]\n"
          ]
        }
      ],
      "source": [
        "# Example 2\n",
        "x = np.array([[1, 2], [3, 4]])\n",
        "y = np.array([[5, 6], [7, 8]])\n",
        "z = np.array([[9, 10], [11, 12]])\n",
        "\n",
        "\n",
        "a = np.concatenate((x, y, z))\n",
        "\n",
        "print(\"Concatenated array: \", a)"
      ]
    },
    {
      "cell_type": "markdown",
      "metadata": {
        "id": "IRXi8Pk5-icx"
      },
      "source": [
        "here we have 3 arrays which are 2x2 and now it will all be combined"
      ]
    },
    {
      "cell_type": "markdown",
      "metadata": {
        "id": "VeBUFmnK-ic0"
      },
      "source": [
        "## Function 2 - np.dot()\n",
        "\n",
        "this function provide with dot product of two arrays\n"
      ]
    },
    {
      "cell_type": "code",
      "execution_count": null,
      "metadata": {
        "id": "Wfvluspk-ic0",
        "colab": {
          "base_uri": "https://localhost:8080/"
        },
        "outputId": "8564a638-529c-4a4d-b86b-04df6448f2e0"
      },
      "outputs": [
        {
          "output_type": "stream",
          "name": "stdout",
          "text": [
            " dot product is:  11\n"
          ]
        }
      ],
      "source": [
        "# Example 1 -\n",
        "a = np.array([1, 2])\n",
        "b = np.array([3, 4])\n",
        "\n",
        "\n",
        "ans = np.dot(a, b)\n",
        "\n",
        "print(\" dot product is: \", ans)"
      ]
    },
    {
      "cell_type": "markdown",
      "metadata": {
        "id": "P7OKcQu_-ic1"
      },
      "source": [
        "here we combining and getting the dot product of two arrays"
      ]
    },
    {
      "cell_type": "code",
      "execution_count": null,
      "metadata": {
        "id": "nAge0ltf-ic1",
        "colab": {
          "base_uri": "https://localhost:8080/"
        },
        "outputId": "ba9c7fd7-a117-4870-d669-4973dc5d5f3c"
      },
      "outputs": [
        {
          "output_type": "stream",
          "name": "stdout",
          "text": [
            "[[19 22]\n",
            " [43 50]]\n"
          ]
        }
      ],
      "source": [
        "# Example 2 -\n",
        "m1 = np.array([[1, 2], [3, 4]])\n",
        "m2 = np.array([[5, 6], [7, 8]])\n",
        "\n",
        "\n",
        "ans = np.dot(m1, m2)\n",
        "\n",
        "print(ans)"
      ]
    },
    {
      "cell_type": "markdown",
      "source": [
        "here we have two matrics of whom we are taking dot product"
      ],
      "metadata": {
        "id": "lWAQtakbfuCY"
      }
    },
    {
      "cell_type": "markdown",
      "metadata": {
        "id": "FUkpWmja-ic3"
      },
      "source": [
        "## Function 3 - np.linalg.det()\n",
        "\n",
        "this python functio calculates the determinant of a square maatrix , it is often used in linear alegbra to commute certain properties of mtrix and its equations"
      ]
    },
    {
      "cell_type": "code",
      "execution_count": null,
      "metadata": {
        "id": "37FevHwn-ic3",
        "colab": {
          "base_uri": "https://localhost:8080/"
        },
        "outputId": "6a18437d-371d-4017-fb3e-cdb42f1fe82b"
      },
      "outputs": [
        {
          "output_type": "stream",
          "name": "stdout",
          "text": [
            "-2.0000000000000004\n"
          ]
        }
      ],
      "source": [
        "# Example 1 -\n",
        "m = np.array([[1, 2], [3, 4]])\n",
        "\n",
        "\n",
        "determinant = np.linalg.det(m)\n",
        "\n",
        "print(determinant)"
      ]
    },
    {
      "cell_type": "markdown",
      "metadata": {
        "id": "J6VwiVnD-ic4"
      },
      "source": [
        "here we have computed the determinant of a 2x2 matrix"
      ]
    },
    {
      "cell_type": "code",
      "execution_count": null,
      "metadata": {
        "id": "VbGbFusS-ic4",
        "colab": {
          "base_uri": "https://localhost:8080/"
        },
        "outputId": "d04fa23e-0a14-4c3a-e2cf-837ea9e8d9df"
      },
      "outputs": [
        {
          "output_type": "stream",
          "name": "stdout",
          "text": [
            "0.0\n"
          ]
        }
      ],
      "source": [
        "# Example 2 -\n",
        "m = np.array([[1, 2, 3], [4, 5, 6], [7, 8, 9]])\n",
        "\n",
        "\n",
        "determinant = np.linalg.det(m)\n",
        "\n",
        "print(determinant)"
      ]
    },
    {
      "cell_type": "markdown",
      "source": [
        "here i have shown that the determinant of 3x3 matrix can also be worked on by this function"
      ],
      "metadata": {
        "id": "dec_MDM1g4Ru"
      }
    },
    {
      "cell_type": "markdown",
      "metadata": {
        "id": "lrXcH38D-ic6"
      },
      "source": [
        "## Function 4 - np.random.rand()\n",
        "\n",
        "this function generates random values from uniform distribution over the interval [0,1]"
      ]
    },
    {
      "cell_type": "code",
      "execution_count": null,
      "metadata": {
        "id": "yoA7Ss9J-ic6",
        "colab": {
          "base_uri": "https://localhost:8080/"
        },
        "outputId": "f8b5ff53-4190-4f7e-9162-e6ca9d1c17b2"
      },
      "outputs": [
        {
          "output_type": "stream",
          "name": "stdout",
          "text": [
            "[0.74948496 0.75239253 0.96641069 0.79314788 0.86598857]\n"
          ]
        }
      ],
      "source": [
        "# Example 1 -\n",
        "\n",
        "rm= np.random.rand(5)\n",
        "\n",
        "print(rm)"
      ]
    },
    {
      "cell_type": "markdown",
      "metadata": {
        "id": "ydkqwayb-ic7"
      },
      "source": [
        "Explanation about example:here it shows how to generate 1D array of random numbers"
      ]
    },
    {
      "cell_type": "code",
      "execution_count": null,
      "metadata": {
        "id": "4r53SG1T-ic7",
        "colab": {
          "base_uri": "https://localhost:8080/"
        },
        "outputId": "869ad9c3-748f-4c06-99c2-43e8563c4edf"
      },
      "outputs": [
        {
          "output_type": "stream",
          "name": "stdout",
          "text": [
            "[[0.20317862 0.82799908 0.03447742]\n",
            " [0.75745574 0.47435523 0.93296272]\n",
            " [0.01338353 0.12065224 0.16054861]]\n"
          ]
        }
      ],
      "source": [
        "# Example 2 -\n",
        "\n",
        "rm = np.random.rand(3, 3)\n",
        "\n",
        "print(rm)"
      ]
    },
    {
      "cell_type": "markdown",
      "source": [
        "here it shows a 2d array of random values"
      ],
      "metadata": {
        "id": "vLSQRkplieyt"
      }
    },
    {
      "cell_type": "markdown",
      "metadata": {
        "id": "nS0yaOXr-ic8"
      },
      "source": [
        "## Function 5 - np.where()\n",
        "\n",
        "this function returns the indices of the values in the given array"
      ]
    },
    {
      "cell_type": "code",
      "execution_count": null,
      "metadata": {
        "id": "P6SVP6tL-ic8",
        "colab": {
          "base_uri": "https://localhost:8080/"
        },
        "outputId": "e7a13fda-f362-411c-9e95-a49ec8f37c73"
      },
      "outputs": [
        {
          "output_type": "stream",
          "name": "stdout",
          "text": [
            "(array([2, 4, 6, 7]),)\n"
          ]
        }
      ],
      "source": [
        "# Example 1 -\n",
        "n = np.array([1, 5, 8, 2, 7, 4, 6, 9, 3, 0])\n",
        "\n",
        "\n",
        "sn = np.where(n > 5)\n",
        "\n",
        "print(sn)"
      ]
    },
    {
      "cell_type": "markdown",
      "metadata": {
        "id": "6g-ZU_ib-ic9"
      },
      "source": [
        "Explanation about example: here it  has selected elements from an array based on a condition"
      ]
    },
    {
      "cell_type": "code",
      "execution_count": null,
      "metadata": {
        "id": "21rfcCFL-ic9",
        "colab": {
          "base_uri": "https://localhost:8080/"
        },
        "outputId": "567d2193-351e-4b77-854f-95f279963b32"
      },
      "outputs": [
        {
          "output_type": "stream",
          "name": "stdout",
          "text": [
            "[ 1  2  8  9 10]\n"
          ]
        }
      ],
      "source": [
        "# Example 2 -\n",
        "n1 = np.array([1, 2, 3, 4, 5])\n",
        "n2 = np.array([6, 7, 8, 9, 10])\n",
        "\n",
        "\n",
        "sn = np.where([True, True, False, False, False], n1, n2)\n",
        "\n",
        "print(sn)"
      ]
    },
    {
      "cell_type": "markdown",
      "source": [
        "here it shows how to use this functio to select elements from two arrays base of conditions"
      ],
      "metadata": {
        "id": "Wrr-a-UTj4jh"
      }
    },
    {
      "cell_type": "markdown",
      "source": [
        "## Submission\n",
        "\n",
        "Congratulations on making it this far! You've reached the end of this part of the assignment.\n",
        "\n",
        "* Don't forget to run all the cell before the submission. <br/>\n",
        "* Download this file as `.ipynb` and rename it as `RollNumber_Numpy.ipynb`\n"
      ],
      "metadata": {
        "id": "NG5lEV0zNQTM"
      }
    }
  ],
  "metadata": {
    "kernelspec": {
      "display_name": "Python 3",
      "language": "python",
      "name": "python3"
    },
    "language_info": {
      "codemirror_mode": {
        "name": "ipython",
        "version": 3
      },
      "file_extension": ".py",
      "mimetype": "text/x-python",
      "name": "python",
      "nbconvert_exporter": "python",
      "pygments_lexer": "ipython3",
      "version": "3.8.6"
    },
    "colab": {
      "provenance": [],
      "collapsed_sections": [
        "pvmC4sWQ-ics",
        "VeBUFmnK-ic0",
        "FUkpWmja-ic3",
        "lrXcH38D-ic6",
        "nS0yaOXr-ic8"
      ],
      "include_colab_link": true
    }
  },
  "nbformat": 4,
  "nbformat_minor": 0
}